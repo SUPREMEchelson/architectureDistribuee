{
 "cells": [
  {
   "cell_type": "code",
   "execution_count": null,
   "id": "bdd9e21e",
   "metadata": {},
   "outputs": [],
   "source": [
    "import http.client\n",
    "import json\n",
    "import time\n",
    "\n",
    "# set up connection and headers\n",
    "conn = http.client.HTTPSConnection(\"leboncoin1.p.rapidapi.com\")\n",
    "headers = {\n",
    "    'X-RapidAPI-Key': \"75d8e9fcbdmshe1c9e3402676a93p103d36jsn22432e5b1526\",\n",
    "    'X-RapidAPI-Host': \"leboncoin1.p.rapidapi.com\"\n",
    "}\n",
    "\n",
    "# create an empty list to store the ads data from each page\n",
    "ads_list = []\n",
    "\n",
    "# make API requests for pages 1 to 29 with a 5 second delay between each request\n",
    "for page in range(1, 30):\n",
    "    query = f\"https%3A%2F%2Fwww.leboncoin.fr%2Flocations%2Foffres%2Fp-{page}\"\n",
    "    conn.request(\"GET\", f\"/v2/leboncoin/search?query={query}\", headers=headers)\n",
    "    res = conn.getresponse()\n",
    "    data = res.read()\n",
    "    if res.status != 200:\n",
    "        print(f\"Error {res.status}: {res.reason}\")\n",
    "        break\n",
    "    # parse response data as JSON and append the ads list to the list\n",
    "    json_data = json.loads(data.decode(\"utf-8\"))\n",
    "    ads_list.extend(json_data['ads'])\n",
    "    # add a 5 second delay before sending the next request\n",
    "    time.sleep(5)\n",
    "\n",
    "# print the raw JSON response\n",
    "x = json.dumps(json_data)\n",
    "print(x)\n"
   ]
  },
  {
   "cell_type": "code",
   "execution_count": null,
   "id": "f6bf0b62",
   "metadata": {},
   "outputs": [],
   "source": [
    "display(df)\n"
   ]
  },
  {
   "cell_type": "code",
   "execution_count": null,
   "id": "b4f9dd32",
   "metadata": {},
   "outputs": [],
   "source": [
    "import json\n",
    "\n",
    "# Assume que x contient le dictionnaire JSON\n",
    "json_str = json.dumps(x, indent=4)  # Convertit en chaîne de caractères JSON avec indentation\n",
    "print(json_str)  # Affiche le contenu du dictionnaire JSON\n"
   ]
  },
  {
   "cell_type": "code",
   "execution_count": null,
   "id": "a0405ccf",
   "metadata": {},
   "outputs": [],
   "source": [
    "li = ['price']\n",
    "\n",
    "for x in json_data_list:\n",
    "    ads_list = x['ads']\n",
    "    for e in range(len(ads_list)):\n",
    "        print({k:v for k, v in ads_list[e].items() if k in li})\n",
    "        print(\"-\"*100)\n"
   ]
  },
  {
   "cell_type": "code",
   "execution_count": null,
   "id": "cff25552",
   "metadata": {},
   "outputs": [],
   "source": [
    "li = ['price_cents']\n",
    "\n",
    "for x in json_data_list:\n",
    "    ads_list = x['ads']\n",
    "    for e in range(len(ads_list)):\n",
    "        print({k:v for k, v in ads_list[e].items() if k in li})\n",
    "        print(\"-\"*100)\n"
   ]
  },
  {
   "cell_type": "code",
   "execution_count": null,
   "id": "813a8562",
   "metadata": {},
   "outputs": [],
   "source": [
    "li = ['attributes']\n",
    "\n",
    "for x in json_data_list:\n",
    "    ads_list = x['ads']\n",
    "    for e in range(len(ads_list)):\n",
    "        print({k:v for k, v in ads_list[e].items() if k in li})\n",
    "        print(\"-\"*100)\n"
   ]
  },
  {
   "cell_type": "code",
   "execution_count": null,
   "id": "ce91b357",
   "metadata": {},
   "outputs": [],
   "source": [
    "li = ['attributes']\n",
    "for x in json_data_list:\n",
    "    ads_list = x['ads']\n",
    "    for e in range(len(ads_list)):\n",
    "        attributes = x[\"ads\"][e]['attributes']\n",
    "        values = [attr['value_label'] for attr in attributes]\n",
    "        print(values)\n",
    "        print(\"-\" * 100)\n"
   ]
  },
  {
   "cell_type": "code",
   "execution_count": null,
   "id": "63110b66",
   "metadata": {},
   "outputs": [],
   "source": [
    "import json\n",
    "\n",
    "#data = json.loads(data.decode(\"utf-8\")) # Remplacez api_response par votre réponse de l'API\n",
    "surfaces = []\n",
    "\n",
    "for x in json_data_list:\n",
    "    ads_list = x['ads']\n",
    "    \n",
    "    for ad in data['ads']:\n",
    "        for attribute in ad['attributes']:\n",
    "            if attribute.get('key_label') == 'Surface':\n",
    "                surfaces.append(attribute.get('value_label'))\n",
    "\n",
    "    print(surfaces)"
   ]
  },
  {
   "cell_type": "code",
   "execution_count": null,
   "id": "97fc14d4",
   "metadata": {},
   "outputs": [],
   "source": [
    "surfaces = []\n",
    "\n",
    "for x in json_data_list:\n",
    "    ads_list = x['ads']\n",
    "    \n",
    "    for ad in data['ads']:\n",
    "        city = ad[\"location\"][\"city\"]\n",
    "        zipcode = ad['location']['zipcode']\n",
    "        price = ad[\"price\"][0]\n",
    "        for attribute in ad['attributes']:\n",
    "            if attribute.get('key_label') == 'Surface':\n",
    "                surface = attribute.get('value_label')\n",
    "                surfaces.append(surface)\n",
    "                print(f\"Surface: {surface}, Ville: {city}, Code postale: {zipcode}, Prix: {price}\")"
   ]
  },
  {
   "cell_type": "code",
   "execution_count": null,
   "id": "5bb14cad",
   "metadata": {},
   "outputs": [],
   "source": [
    "import pandas as pd\n",
    "\n",
    "rows = []\n",
    "\n",
    "for x in json_data_list:\n",
    "    ads_list = x['ads']\n",
    "    \n",
    "    for ad in data['ads']:\n",
    "        city = ad[\"location\"][\"city\"]\n",
    "        zipcode = ad['location']['zipcode']\n",
    "        price = ad[\"price\"][0]\n",
    "        for attribute in ad['attributes']:\n",
    "            if attribute.get('key_label') == 'Surface':\n",
    "                surface = attribute.get('value_label')\n",
    "                rows.append({'Surface': surface, 'Ville': city, 'Code postale': zipcode, 'Prix par mois': price})\n",
    "df = pd.DataFrame(rows)\n",
    "print(df.to_string(index=False))"
   ]
  },
  {
   "cell_type": "code",
   "execution_count": null,
   "id": "a76a15da",
   "metadata": {},
   "outputs": [],
   "source": [
    "import pandas as pd\n",
    "\n",
    "df.to_csv('C:/Users/khattab youssef/Desktop/data5.csv', index=False)"
   ]
  },
  {
   "cell_type": "code",
   "execution_count": null,
   "id": "7a37d2f5",
   "metadata": {},
   "outputs": [],
   "source": [
    "import pymongo\n",
    "import pandas as pd\n",
    "\n",
    "# Connexion à la base de données MongoDB\n",
    "client = pymongo.MongoClient(\"mongodb://127.0.0.1:27017\")\n",
    "db = client[\"ProjetArchitectureDistribuee\"]\n",
    "collection = db[\"DonnerLeBonCoin\"]\n",
    "data = df.to_dict(orient='records')\n",
    "for document in data:\n",
    "    collection.insert_one(document)\n",
    "print(collection.count_documents({}))\n",
    "\n"
   ]
  },
  {
   "cell_type": "code",
   "execution_count": null,
   "id": "b1790638",
   "metadata": {},
   "outputs": [],
   "source": []
  },
  {
   "cell_type": "code",
   "execution_count": null,
   "id": "d4d48a34",
   "metadata": {},
   "outputs": [],
   "source": []
  }
 ],
 "metadata": {
  "kernelspec": {
   "display_name": "Python 3 (ipykernel)",
   "language": "python",
   "name": "python3"
  },
  "language_info": {
   "codemirror_mode": {
    "name": "ipython",
    "version": 3
   },
   "file_extension": ".py",
   "mimetype": "text/x-python",
   "name": "python",
   "nbconvert_exporter": "python",
   "pygments_lexer": "ipython3",
   "version": "3.9.2"
  }
 },
 "nbformat": 4,
 "nbformat_minor": 5
}
