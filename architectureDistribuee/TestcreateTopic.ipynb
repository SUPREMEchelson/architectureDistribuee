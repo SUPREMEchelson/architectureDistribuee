{
 "cells": [
  {
   "cell_type": "code",
   "execution_count": 4,
   "id": "930c1184",
   "metadata": {},
   "outputs": [
    {
     "name": "stdout",
     "output_type": "stream",
     "text": [
      "Topic hello_topic créé avec succès.\n",
      "Message delivered to hello_topic [0]\n",
      "Message 'hello' envoyé au topic hello_topic.\n"
     ]
    }
   ],
   "source": [
    "from confluent_kafka import Producer\n",
    "from confluent_kafka.admin import AdminClient, NewTopic\n",
    "\n",
    "def delivery_report(err, msg):\n",
    "    if err is not None:\n",
    "        print(f'Message delivery failed: {err}')\n",
    "    else:\n",
    "        print(f'Message delivered to {msg.topic()} [{msg.partition()}]')\n",
    "\n",
    "# Configuration du producteur Kafka\n",
    "conf = {'bootstrap.servers': 'kafka:9092'}\n",
    "producer = Producer(conf)\n",
    "\n",
    "# Création du topic\n",
    "topic_name = 'hello_topic'\n",
    "\n",
    "admin_client = AdminClient(conf)\n",
    "\n",
    "new_topic = NewTopic(\n",
    "    topic_name,\n",
    "    num_partitions=1,\n",
    "    replication_factor=1\n",
    ")\n",
    "\n",
    "try:\n",
    "    admin_client.create_topics([new_topic])\n",
    "    print(f'Topic {topic_name} créé avec succès.')\n",
    "except Exception as e:\n",
    "    print(f'Erreur lors de la création du topic {topic_name}: {e}')\n",
    "\n",
    "# Envoi du message 'hello' au topic\n",
    "message = 'hello'\n",
    "producer.produce(topic_name, key=None, value=message, callback=delivery_report)\n",
    "producer.flush()\n",
    "\n",
    "print(f\"Message '{message}' envoyé au topic {topic_name}.\")"
   ]
  },
  {
   "cell_type": "code",
   "execution_count": 2,
   "id": "260f10a0",
   "metadata": {},
   "outputs": [
    {
     "name": "stdout",
     "output_type": "stream",
     "text": [
      "Collecting confluent-kafka\n",
      "  Downloading confluent_kafka-2.1.0-cp39-cp39-manylinux_2_17_x86_64.manylinux2014_x86_64.whl (3.9 MB)\n",
      "\u001b[2K     \u001b[90m━━━━━━━━━━━━━━━━━━━━━━━━━━━━━━━━━━━━━━━━\u001b[0m \u001b[32m3.9/3.9 MB\u001b[0m \u001b[31m3.0 MB/s\u001b[0m eta \u001b[36m0:00:00\u001b[0m00:01\u001b[0m00:01\u001b[0m\n",
      "\u001b[?25hInstalling collected packages: confluent-kafka\n",
      "Successfully installed confluent-kafka-2.1.0\n",
      "\u001b[33mWARNING: Running pip as the 'root' user can result in broken permissions and conflicting behaviour with the system package manager. It is recommended to use a virtual environment instead: https://pip.pypa.io/warnings/venv\u001b[0m\u001b[33m\n",
      "\u001b[0mNote: you may need to restart the kernel to use updated packages.\n"
     ]
    }
   ],
   "source": [
    "pip install confluent-kafka"
   ]
  },
  {
   "cell_type": "code",
   "execution_count": null,
   "id": "9eb80ca1",
   "metadata": {},
   "outputs": [],
   "source": []
  }
 ],
 "metadata": {
  "kernelspec": {
   "display_name": "Python 3 (ipykernel)",
   "language": "python",
   "name": "python3"
  },
  "language_info": {
   "codemirror_mode": {
    "name": "ipython",
    "version": 3
   },
   "file_extension": ".py",
   "mimetype": "text/x-python",
   "name": "python",
   "nbconvert_exporter": "python",
   "pygments_lexer": "ipython3",
   "version": "3.9.2"
  }
 },
 "nbformat": 4,
 "nbformat_minor": 5
}
