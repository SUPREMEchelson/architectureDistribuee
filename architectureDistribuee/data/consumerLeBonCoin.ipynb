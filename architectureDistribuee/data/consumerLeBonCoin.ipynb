{
 "cells": [
  {
   "cell_type": "code",
   "execution_count": null,
   "id": "bf3ef906",
   "metadata": {},
   "outputs": [],
   "source": [
    "from kafka import KafkaConsumer\n",
    "import json\n",
    "from pymongo import MongoClient\n",
    "\n",
    "mongo_client = MongoClient(\"mongodb://localhost:27017\")\n",
    "db = mongo_client[\"ProjetArchitectureDistribuee\"]  \n",
    "collection = db[\"DonnerPoleEmploi\"] \n",
    "\n",
    "# Configuration du Kafka Consumer\n",
    "kafka_broker = \"localhost:9092\"\n",
    "kafka_topic = \"leboncoin2\"\n",
    "\n",
    "consumer = KafkaConsumer(\n",
    "    kafka_topic,\n",
    "    bootstrap_servers=kafka_broker,\n",
    "    value_deserializer=lambda m: json.loads(m.decode('ascii'))\n",
    ")\n",
    "\n",
    "for message in consumer:\n",
    "    data = message.value\n",
    "    print(f\"Data received: {data}\")\n",
    "    result = collection.insert_one(data)\n",
    "    print(f\"Data inserted in MongoDB with ID: {result.inserted_id}\")\n",
    "    \n",
    "    "
   ]
  }
 ],
 "metadata": {
  "kernelspec": {
   "display_name": "Python 3 (ipykernel)",
   "language": "python",
   "name": "python3"
  },
  "language_info": {
   "codemirror_mode": {
    "name": "ipython",
    "version": 3
   },
   "file_extension": ".py",
   "mimetype": "text/x-python",
   "name": "python",
   "nbconvert_exporter": "python",
   "pygments_lexer": "ipython3",
   "version": "3.9.2"
  }
 },
 "nbformat": 4,
 "nbformat_minor": 5
}
