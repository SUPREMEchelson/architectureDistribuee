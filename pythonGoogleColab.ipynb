{
  "nbformat": 4,
  "nbformat_minor": 0,
  "metadata": {
    "colab": {
      "provenance": [],
      "toc_visible": true,
      "authorship_tag": "ABX9TyMr0r5tYjxfFh+wXZV+A+IV",
      "include_colab_link": true
    },
    "kernelspec": {
      "name": "python3",
      "display_name": "Python 3"
    },
    "language_info": {
      "name": "python"
    }
  },
  "cells": [
    {
      "cell_type": "markdown",
      "metadata": {
        "id": "view-in-github",
        "colab_type": "text"
      },
      "source": [
        "<a href=\"https://colab.research.google.com/github/SUPREMEchelson/architectureDistribuee/blob/main/pythonGoogleColab.ipynb\" target=\"_parent\"><img src=\"https://colab.research.google.com/assets/colab-badge.svg\" alt=\"Open In Colab\"/></a>"
      ]
    },
    {
      "cell_type": "code",
      "execution_count": 3,
      "metadata": {
        "colab": {
          "base_uri": "https://localhost:8080/"
        },
        "id": "mV7JUx6ane5w",
        "outputId": "6d75a8fa-662c-4327-ee82-705f51b924be"
      },
      "outputs": [
        {
          "output_type": "stream",
          "name": "stdout",
          "text": [
            "Mounted at /content/drive\n"
          ]
        }
      ],
      "source": [
        "from google.colab import drive\n",
        "\n",
        "# Montez le lecteur Google Drive en exécutant cette commande et en suivant les instructions\n",
        "drive.mount('/content/drive')\n"
      ]
    },
    {
      "cell_type": "code",
      "source": [
        "ls"
      ],
      "metadata": {
        "colab": {
          "base_uri": "https://localhost:8080/"
        },
        "id": "soujUVrAsBxT",
        "outputId": "15be6a8e-a93a-4773-fb46-9501cdc9d638"
      },
      "execution_count": 18,
      "outputs": [
        {
          "output_type": "stream",
          "name": "stdout",
          "text": [
            "data2.csv  PoleEmploiDonner.csv\n"
          ]
        }
      ]
    },
    {
      "cell_type": "code",
      "source": [
        "import pandas as pd\n",
        "\n",
        "# Charger le fichier CSV à partir de votre Google Drive\n",
        "df1 = pd.read_csv('/content/drive/MyDrive/ArchitectureDistribueer/data2.csv')\n"
      ],
      "metadata": {
        "id": "agI_71ngrvXs"
      },
      "execution_count": 17,
      "outputs": []
    },
    {
      "cell_type": "code",
      "source": [
        "# Charger le fichier CSV à partir de votre Google Drive\n",
        "df2 = pd.read_csv('/content/drive/MyDrive/ArchitectureDistribueer/PoleEmploiDonner.csv')\n"
      ],
      "metadata": {
        "id": "VnrCX5w3srDw"
      },
      "execution_count": 19,
      "outputs": []
    },
    {
      "cell_type": "code",
      "source": [
        "print(df1)"
      ],
      "metadata": {
        "colab": {
          "base_uri": "https://localhost:8080/"
        },
        "id": "Kn1nGaNQs6oW",
        "outputId": "dc430dc4-edb4-4e93-822b-b2a0bfa8c1be"
      },
      "execution_count": 20,
      "outputs": [
        {
          "output_type": "stream",
          "name": "stdout",
          "text": [
            "   Surface                 Ville  Code postale  Prix par mois\n",
            "0    16 m²       Aix-en-Provence         13080            495\n",
            "1    68 m²              Altkirch         68130            448\n",
            "2    83 m²           Le François         97240            790\n",
            "3    70 m²              Bordeaux         33000            500\n",
            "4    26 m²       Vétraz-Monthoux         74100              1\n",
            "5    28 m²              Toulouse         31100            470\n",
            "6    19 m²     Villeneuve-d'Ascq         59650            490\n",
            "7    80 m²    Evry-Courcouronnes         91000            350\n",
            "8    70 m²                  Sare         64310            630\n",
            "9    39 m²                 Lille         59000            720\n",
            "10   39 m²   Bussy-Saint-Georges         77600            851\n",
            "11   64 m²                Troyes         10000            890\n",
            "12   55 m²             La Flèche         72200            550\n",
            "13   62 m²              Chartres         28000            600\n",
            "14   13 m²                 Paris         75116            270\n",
            "15   46 m²              Maubeuge         59600            490\n",
            "16   40 m²  Boulogne-Billancourt         92100           1308\n",
            "17  105 m²           Sainte-Rose         97115            700\n",
            "18  120 m²                 Mauny         76530            850\n",
            "19   35 m²          Sault-Brénaz          1150            485\n",
            "20   45 m²            Argenteuil         95100            975\n",
            "21   96 m²     Fontenay-Trésigny         77610           1200\n",
            "22   77 m²                Liffré         35340            730\n",
            "23   78 m²                Sarras          7370            900\n",
            "24   12 m²              Malakoff         92240             65\n",
            "25   40 m²               Mazères          9270            420\n",
            "26   13 m²                 Paris         75007            150\n",
            "27   80 m²              Beauvais         60000            850\n",
            "28   30 m²           Saint-Mandé         94160           1250\n",
            "29   63 m²            Schoelcher         97233            800\n",
            "30   50 m²            Strasbourg         67000           1070\n",
            "31   28 m²                 Dijon         21000            460\n",
            "32   90 m²               Bayonne         64100           1200\n"
          ]
        }
      ]
    },
    {
      "cell_type": "code",
      "source": [
        "print(df2)"
      ],
      "metadata": {
        "colab": {
          "base_uri": "https://localhost:8080/"
        },
        "id": "yAVHfTyBs-cG",
        "outputId": "70a1f2bc-de46-402a-c166-6841abddc7d0"
      },
      "execution_count": 21,
      "outputs": [
        {
          "output_type": "stream",
          "name": "stdout",
          "text": [
            "     Unnamed: 0                                           intitule  \\\n",
            "0             0  Directeur / Directrice des services informatiq...   \n",
            "1             1                 Technicien informatique N1/2 (H/F)   \n",
            "2             2           Technicien/ne support informatique (H/F)   \n",
            "3             3            Développeur / Développeuse informatique   \n",
            "4             4    Technicien support proximité informatique (H/F)   \n",
            "..          ...                                                ...   \n",
            "145         145  Ingénieur développement informatique et suppor...   \n",
            "146         146  Technicien atelier électronique-informatique (...   \n",
            "147         147  Administrateur / Administratrice système infor...   \n",
            "148         148  Administrateur / Administratrice système infor...   \n",
            "149         149     Technicien / Technicienne informatique   (H/F)   \n",
            "\n",
            "                                           description  \\\n",
            "0    Directement rattaché(e) à la direction du grou...   \n",
            "1    Lynx RH Services Grenoble, cabinet de recrutem...   \n",
            "2    ous interviendrez donc sur les périmètres tech...   \n",
            "3    Sous la direction du Directeur Technique en ch...   \n",
            "4    La Direction Services Econocom recherche un Te...   \n",
            "..                                                 ...   \n",
            "145  Belle opportunité dans un environnement indust...   \n",
            "146  WARE ID conçoit et intègre des solutions d'ide...   \n",
            "147  Nous recrutons pour le compte d'une entreprise...   \n",
            "148  Nous recrutons pour le compte d'une entreprise...   \n",
            "149  Nous recrutons pour le compte d'une entreprise...   \n",
            "\n",
            "                                               salaire  \\\n",
            "0    'libelle': 'Annuel de 45000,00 Euros à 60000,0...   \n",
            "1    'libelle': 'Annuel de 25000,00 Euros à 30000,0...   \n",
            "2    'libelle': 'Annuel de 25000,00 Euros à 27000,0...   \n",
            "3    'libelle': 'Annuel de 25000,00 Euros sur 12 mo...   \n",
            "4    'libelle': 'Mensuel de 22000,00 Euros à 25000,...   \n",
            "..                                                 ...   \n",
            "145  'libelle': 'Annuel de 40000,00 Euros à 55000,0...   \n",
            "146  'libelle': 'Mensuel de 2000,00 Euros à 2500,00...   \n",
            "147  'commentaire': '% du SMIC selon grille', 'comp...   \n",
            "148  'commentaire': '% du SMIC selon grille', 'comp...   \n",
            "149  'commentaire': '% du SMIC selon grille', 'comp...   \n",
            "\n",
            "                      libelle   latitude  longitude  codePostal  commune  \n",
            "0        19 - ARNAC POMPADOUR  45.406554   1.371028     19230.0  19011.0  \n",
            "1               38 - GRENOBLE  45.181364   5.724855     38000.0  38185.0  \n",
            "2             67 - STRASBOURG  48.579831   7.761454     67000.0  67482.0  \n",
            "3               34 - CLAPIERS  43.657118   3.887403     34830.0  34077.0  \n",
            "4    92 - LE PLESSIS ROBINSON  48.781380   2.260472     92350.0  92060.0  \n",
            "..                        ...        ...        ...         ...      ...  \n",
            "145              38 - CROLLES  45.282757   5.882925     38920.0  38140.0  \n",
            "146    14 - CASTINE EN PLAINE  49.112513  -0.308361     14540.0  14538.0  \n",
            "147             57 - ST AVOLD  49.124812   6.708506     57500.0  57606.0  \n",
            "148             57 - ST AVOLD  49.124812   6.708506     57500.0  57606.0  \n",
            "149     55 - LIGNY EN BARROIS  48.685345   5.324155     55500.0  55291.0  \n",
            "\n",
            "[150 rows x 9 columns]\n"
          ]
        }
      ]
    },
    {
      "cell_type": "code",
      "source": [
        "print(df1.columns)"
      ],
      "metadata": {
        "colab": {
          "base_uri": "https://localhost:8080/"
        },
        "id": "xpYnYfKAtCFy",
        "outputId": "bda565b4-23ba-478a-f900-7c64fef5efc0"
      },
      "execution_count": 23,
      "outputs": [
        {
          "output_type": "stream",
          "name": "stdout",
          "text": [
            "Index(['Surface', 'Ville', 'Code postale', 'Prix par mois'], dtype='object')\n"
          ]
        }
      ]
    },
    {
      "cell_type": "code",
      "source": [
        "print(df2.columns)"
      ],
      "metadata": {
        "colab": {
          "base_uri": "https://localhost:8080/"
        },
        "id": "G9xRq3qNtOHi",
        "outputId": "683ad15f-18ad-4398-ea59-09ed8bb40af5"
      },
      "execution_count": 24,
      "outputs": [
        {
          "output_type": "stream",
          "name": "stdout",
          "text": [
            "Index(['Unnamed: 0', 'intitule', 'description', 'salaire', 'libelle',\n",
            "       'latitude', 'longitude', 'codePostal', 'commune'],\n",
            "      dtype='object')\n"
          ]
        }
      ]
    },
    {
      "cell_type": "code",
      "source": [
        "# Renommer la colonne \"codePostal\" en \"Code postale\"\n",
        "df2 = df2.rename(columns={\"codePostal\": \"Code postale\"})\n",
        "\n",
        "# Concaténer les deux dataframes en utilisant la colonne \"Code postale\" comme clé de jointure\n",
        "df_concat = pd.merge(df1, df2, on=\"Code postale\")\n",
        "\n",
        "# Enregistrer le résultat dans un fichier CSV\n",
        "# Enregistrer le résultat dans un fichier CSV\n",
        "df_concat.to_csv(\"/content/drive/MyDrive/ArchitectureDistribueer/nouveauFichier.csv\", index=False)\n"
      ],
      "metadata": {
        "id": "LI9nqkZHtdEr"
      },
      "execution_count": 37,
      "outputs": []
    },
    {
      "cell_type": "code",
      "source": [
        "\n",
        "# Charger le fichier CSV dans un DataFrame\n",
        "df = pd.read_csv(\"/content/drive/MyDrive/ArchitectureDistribueer/nouveauFichier.csv\")\n",
        "\n",
        "# Afficher les premières lignes du DataFrame\n",
        "print(df.head())\n"
      ],
      "metadata": {
        "colab": {
          "base_uri": "https://localhost:8080/"
        },
        "id": "MSU7WYHdwXrD",
        "outputId": "db399f50-ec9f-42bd-e294-805f94c2ed63"
      },
      "execution_count": 38,
      "outputs": [
        {
          "output_type": "stream",
          "name": "stdout",
          "text": [
            "  Surface                 Ville  Code postale  Prix par mois  Unnamed: 0  \\\n",
            "0   70 m²              Bordeaux         33000            500          75   \n",
            "1   70 m²              Bordeaux         33000            500          97   \n",
            "2   39 m²                 Lille         59000            720         110   \n",
            "3   39 m²                 Lille         59000            720         112   \n",
            "4   40 m²  Boulogne-Billancourt         92100           1308         108   \n",
            "\n",
            "                                            intitule  \\\n",
            "0  Technicien / Technicienne de maintenance en in...   \n",
            "1  Enseignant informatique et techniques quantita...   \n",
            "2  Technicien Informatique N2/N3 bilingue anglais...   \n",
            "3           ALTERNANCE TECHNICIEN INFORMATIQUE (H/F)   \n",
            "4          Chef de projets informatique Etudes (F/H)   \n",
            "\n",
            "                                         description  \\\n",
            "0  **Venez rencontrer l'employeur lors d'une sess...   \n",
            "1  Contractuel second degré\\nCampagne ouverte du ...   \n",
            "2  « Spécialisé dans le recrutement de profils ha...   \n",
            "3  Pour nos entreprises partenaires basées sur Or...   \n",
            "4  Au sein de la direction des antennes et placé ...   \n",
            "\n",
            "                                             salaire  \\\n",
            "0  'libelle': 'Horaire de 11,27 Euros à 11,44 Eur...   \n",
            "1  'libelle': 'Mensuel de 2138,00 Euros sur 12 mois'   \n",
            "2  'libelle': 'Annuel de 26000,00 Euros à 30000,0...   \n",
            "3  'libelle': 'Mensuel de 1709,00 Euros sur 12 mois'   \n",
            "4  'libelle': 'Annuel de 40000,00 Euros sur 12 mois'   \n",
            "\n",
            "                     libelle   latitude  longitude  commune  \n",
            "0              33 - BORDEAUX  44.851895  -0.587877  33063.0  \n",
            "1              33 - BORDEAUX  44.851895  -0.587877  33063.0  \n",
            "2                 59 - LILLE  50.630992   3.045433  59350.0  \n",
            "3                 59 - LILLE  50.630992   3.045433  59350.0  \n",
            "4  92 - BOULOGNE BILLANCOURT  48.836976   2.242716  92012.0  \n"
          ]
        }
      ]
    },
    {
      "cell_type": "code",
      "source": [
        "display(df.head(20))"
      ],
      "metadata": {
        "colab": {
          "base_uri": "https://localhost:8080/",
          "height": 2355
        },
        "id": "7NCVrp8Uw-8j",
        "outputId": "8c305b2d-0aac-4d1d-d13f-a2715adb051d"
      },
      "execution_count": 39,
      "outputs": [
        {
          "output_type": "display_data",
          "data": {
            "text/plain": [
              "  Surface                 Ville  Code postale  Prix par mois  Unnamed: 0  \\\n",
              "0   70 m²              Bordeaux         33000            500          75   \n",
              "1   70 m²              Bordeaux         33000            500          97   \n",
              "2   39 m²                 Lille         59000            720         110   \n",
              "3   39 m²                 Lille         59000            720         112   \n",
              "4   40 m²  Boulogne-Billancourt         92100           1308         108   \n",
              "5   50 m²            Strasbourg         67000           1070           2   \n",
              "6   50 m²            Strasbourg         67000           1070          82   \n",
              "\n",
              "                                            intitule  \\\n",
              "0  Technicien / Technicienne de maintenance en in...   \n",
              "1  Enseignant informatique et techniques quantita...   \n",
              "2  Technicien Informatique N2/N3 bilingue anglais...   \n",
              "3           ALTERNANCE TECHNICIEN INFORMATIQUE (H/F)   \n",
              "4          Chef de projets informatique Etudes (F/H)   \n",
              "5           Technicien/ne support informatique (H/F)   \n",
              "6       Technicien informatique d'exploitation (H/F)   \n",
              "\n",
              "                                         description  \\\n",
              "0  **Venez rencontrer l'employeur lors d'une sess...   \n",
              "1  Contractuel second degré\\nCampagne ouverte du ...   \n",
              "2  « Spécialisé dans le recrutement de profils ha...   \n",
              "3  Pour nos entreprises partenaires basées sur Or...   \n",
              "4  Au sein de la direction des antennes et placé ...   \n",
              "5  ous interviendrez donc sur les périmètres tech...   \n",
              "6  « Spécialisé dans le recrutement de profils ha...   \n",
              "\n",
              "                                             salaire  \\\n",
              "0  'libelle': 'Horaire de 11,27 Euros à 11,44 Eur...   \n",
              "1  'libelle': 'Mensuel de 2138,00 Euros sur 12 mois'   \n",
              "2  'libelle': 'Annuel de 26000,00 Euros à 30000,0...   \n",
              "3  'libelle': 'Mensuel de 1709,00 Euros sur 12 mois'   \n",
              "4  'libelle': 'Annuel de 40000,00 Euros sur 12 mois'   \n",
              "5  'libelle': 'Annuel de 25000,00 Euros à 27000,0...   \n",
              "6  'libelle': 'Annuel de 24000,00 Euros à 26000,0...   \n",
              "\n",
              "                     libelle   latitude  longitude  commune  \n",
              "0              33 - BORDEAUX  44.851895  -0.587877  33063.0  \n",
              "1              33 - BORDEAUX  44.851895  -0.587877  33063.0  \n",
              "2                 59 - LILLE  50.630992   3.045433  59350.0  \n",
              "3                 59 - LILLE  50.630992   3.045433  59350.0  \n",
              "4  92 - BOULOGNE BILLANCOURT  48.836976   2.242716  92012.0  \n",
              "5            67 - STRASBOURG  48.579831   7.761454  67482.0  \n",
              "6            67 - STRASBOURG  48.579831   7.761454  67482.0  "
            ],
            "text/html": [
              "\n",
              "  <div id=\"df-7ab456d4-1ad8-46a0-b346-1ca89973b09a\">\n",
              "    <div class=\"colab-df-container\">\n",
              "      <div>\n",
              "<style scoped>\n",
              "    .dataframe tbody tr th:only-of-type {\n",
              "        vertical-align: middle;\n",
              "    }\n",
              "\n",
              "    .dataframe tbody tr th {\n",
              "        vertical-align: top;\n",
              "    }\n",
              "\n",
              "    .dataframe thead th {\n",
              "        text-align: right;\n",
              "    }\n",
              "</style>\n",
              "<table border=\"1\" class=\"dataframe\">\n",
              "  <thead>\n",
              "    <tr style=\"text-align: right;\">\n",
              "      <th></th>\n",
              "      <th>Surface</th>\n",
              "      <th>Ville</th>\n",
              "      <th>Code postale</th>\n",
              "      <th>Prix par mois</th>\n",
              "      <th>Unnamed: 0</th>\n",
              "      <th>intitule</th>\n",
              "      <th>description</th>\n",
              "      <th>salaire</th>\n",
              "      <th>libelle</th>\n",
              "      <th>latitude</th>\n",
              "      <th>longitude</th>\n",
              "      <th>commune</th>\n",
              "    </tr>\n",
              "  </thead>\n",
              "  <tbody>\n",
              "    <tr>\n",
              "      <th>0</th>\n",
              "      <td>70 m²</td>\n",
              "      <td>Bordeaux</td>\n",
              "      <td>33000</td>\n",
              "      <td>500</td>\n",
              "      <td>75</td>\n",
              "      <td>Technicien / Technicienne de maintenance en in...</td>\n",
              "      <td>**Venez rencontrer l'employeur lors d'une sess...</td>\n",
              "      <td>'libelle': 'Horaire de 11,27 Euros à 11,44 Eur...</td>\n",
              "      <td>33 - BORDEAUX</td>\n",
              "      <td>44.851895</td>\n",
              "      <td>-0.587877</td>\n",
              "      <td>33063.0</td>\n",
              "    </tr>\n",
              "    <tr>\n",
              "      <th>1</th>\n",
              "      <td>70 m²</td>\n",
              "      <td>Bordeaux</td>\n",
              "      <td>33000</td>\n",
              "      <td>500</td>\n",
              "      <td>97</td>\n",
              "      <td>Enseignant informatique et techniques quantita...</td>\n",
              "      <td>Contractuel second degré\\nCampagne ouverte du ...</td>\n",
              "      <td>'libelle': 'Mensuel de 2138,00 Euros sur 12 mois'</td>\n",
              "      <td>33 - BORDEAUX</td>\n",
              "      <td>44.851895</td>\n",
              "      <td>-0.587877</td>\n",
              "      <td>33063.0</td>\n",
              "    </tr>\n",
              "    <tr>\n",
              "      <th>2</th>\n",
              "      <td>39 m²</td>\n",
              "      <td>Lille</td>\n",
              "      <td>59000</td>\n",
              "      <td>720</td>\n",
              "      <td>110</td>\n",
              "      <td>Technicien Informatique N2/N3 bilingue anglais...</td>\n",
              "      <td>« Spécialisé dans le recrutement de profils ha...</td>\n",
              "      <td>'libelle': 'Annuel de 26000,00 Euros à 30000,0...</td>\n",
              "      <td>59 - LILLE</td>\n",
              "      <td>50.630992</td>\n",
              "      <td>3.045433</td>\n",
              "      <td>59350.0</td>\n",
              "    </tr>\n",
              "    <tr>\n",
              "      <th>3</th>\n",
              "      <td>39 m²</td>\n",
              "      <td>Lille</td>\n",
              "      <td>59000</td>\n",
              "      <td>720</td>\n",
              "      <td>112</td>\n",
              "      <td>ALTERNANCE TECHNICIEN INFORMATIQUE (H/F)</td>\n",
              "      <td>Pour nos entreprises partenaires basées sur Or...</td>\n",
              "      <td>'libelle': 'Mensuel de 1709,00 Euros sur 12 mois'</td>\n",
              "      <td>59 - LILLE</td>\n",
              "      <td>50.630992</td>\n",
              "      <td>3.045433</td>\n",
              "      <td>59350.0</td>\n",
              "    </tr>\n",
              "    <tr>\n",
              "      <th>4</th>\n",
              "      <td>40 m²</td>\n",
              "      <td>Boulogne-Billancourt</td>\n",
              "      <td>92100</td>\n",
              "      <td>1308</td>\n",
              "      <td>108</td>\n",
              "      <td>Chef de projets informatique Etudes (F/H)</td>\n",
              "      <td>Au sein de la direction des antennes et placé ...</td>\n",
              "      <td>'libelle': 'Annuel de 40000,00 Euros sur 12 mois'</td>\n",
              "      <td>92 - BOULOGNE BILLANCOURT</td>\n",
              "      <td>48.836976</td>\n",
              "      <td>2.242716</td>\n",
              "      <td>92012.0</td>\n",
              "    </tr>\n",
              "    <tr>\n",
              "      <th>5</th>\n",
              "      <td>50 m²</td>\n",
              "      <td>Strasbourg</td>\n",
              "      <td>67000</td>\n",
              "      <td>1070</td>\n",
              "      <td>2</td>\n",
              "      <td>Technicien/ne support informatique (H/F)</td>\n",
              "      <td>ous interviendrez donc sur les périmètres tech...</td>\n",
              "      <td>'libelle': 'Annuel de 25000,00 Euros à 27000,0...</td>\n",
              "      <td>67 - STRASBOURG</td>\n",
              "      <td>48.579831</td>\n",
              "      <td>7.761454</td>\n",
              "      <td>67482.0</td>\n",
              "    </tr>\n",
              "    <tr>\n",
              "      <th>6</th>\n",
              "      <td>50 m²</td>\n",
              "      <td>Strasbourg</td>\n",
              "      <td>67000</td>\n",
              "      <td>1070</td>\n",
              "      <td>82</td>\n",
              "      <td>Technicien informatique d'exploitation (H/F)</td>\n",
              "      <td>« Spécialisé dans le recrutement de profils ha...</td>\n",
              "      <td>'libelle': 'Annuel de 24000,00 Euros à 26000,0...</td>\n",
              "      <td>67 - STRASBOURG</td>\n",
              "      <td>48.579831</td>\n",
              "      <td>7.761454</td>\n",
              "      <td>67482.0</td>\n",
              "    </tr>\n",
              "  </tbody>\n",
              "</table>\n",
              "</div>\n",
              "      <button class=\"colab-df-convert\" onclick=\"convertToInteractive('df-7ab456d4-1ad8-46a0-b346-1ca89973b09a')\"\n",
              "              title=\"Convert this dataframe to an interactive table.\"\n",
              "              style=\"display:none;\">\n",
              "        \n",
              "  <svg xmlns=\"http://www.w3.org/2000/svg\" height=\"24px\"viewBox=\"0 0 24 24\"\n",
              "       width=\"24px\">\n",
              "    <path d=\"M0 0h24v24H0V0z\" fill=\"none\"/>\n",
              "    <path d=\"M18.56 5.44l.94 2.06.94-2.06 2.06-.94-2.06-.94-.94-2.06-.94 2.06-2.06.94zm-11 1L8.5 8.5l.94-2.06 2.06-.94-2.06-.94L8.5 2.5l-.94 2.06-2.06.94zm10 10l.94 2.06.94-2.06 2.06-.94-2.06-.94-.94-2.06-.94 2.06-2.06.94z\"/><path d=\"M17.41 7.96l-1.37-1.37c-.4-.4-.92-.59-1.43-.59-.52 0-1.04.2-1.43.59L10.3 9.45l-7.72 7.72c-.78.78-.78 2.05 0 2.83L4 21.41c.39.39.9.59 1.41.59.51 0 1.02-.2 1.41-.59l7.78-7.78 2.81-2.81c.8-.78.8-2.07 0-2.86zM5.41 20L4 18.59l7.72-7.72 1.47 1.35L5.41 20z\"/>\n",
              "  </svg>\n",
              "      </button>\n",
              "      \n",
              "  <style>\n",
              "    .colab-df-container {\n",
              "      display:flex;\n",
              "      flex-wrap:wrap;\n",
              "      gap: 12px;\n",
              "    }\n",
              "\n",
              "    .colab-df-convert {\n",
              "      background-color: #E8F0FE;\n",
              "      border: none;\n",
              "      border-radius: 50%;\n",
              "      cursor: pointer;\n",
              "      display: none;\n",
              "      fill: #1967D2;\n",
              "      height: 32px;\n",
              "      padding: 0 0 0 0;\n",
              "      width: 32px;\n",
              "    }\n",
              "\n",
              "    .colab-df-convert:hover {\n",
              "      background-color: #E2EBFA;\n",
              "      box-shadow: 0px 1px 2px rgba(60, 64, 67, 0.3), 0px 1px 3px 1px rgba(60, 64, 67, 0.15);\n",
              "      fill: #174EA6;\n",
              "    }\n",
              "\n",
              "    [theme=dark] .colab-df-convert {\n",
              "      background-color: #3B4455;\n",
              "      fill: #D2E3FC;\n",
              "    }\n",
              "\n",
              "    [theme=dark] .colab-df-convert:hover {\n",
              "      background-color: #434B5C;\n",
              "      box-shadow: 0px 1px 3px 1px rgba(0, 0, 0, 0.15);\n",
              "      filter: drop-shadow(0px 1px 2px rgba(0, 0, 0, 0.3));\n",
              "      fill: #FFFFFF;\n",
              "    }\n",
              "  </style>\n",
              "\n",
              "      <script>\n",
              "        const buttonEl =\n",
              "          document.querySelector('#df-7ab456d4-1ad8-46a0-b346-1ca89973b09a button.colab-df-convert');\n",
              "        buttonEl.style.display =\n",
              "          google.colab.kernel.accessAllowed ? 'block' : 'none';\n",
              "\n",
              "        async function convertToInteractive(key) {\n",
              "          const element = document.querySelector('#df-7ab456d4-1ad8-46a0-b346-1ca89973b09a');\n",
              "          const dataTable =\n",
              "            await google.colab.kernel.invokeFunction('convertToInteractive',\n",
              "                                                     [key], {});\n",
              "          if (!dataTable) return;\n",
              "\n",
              "          const docLinkHtml = 'Like what you see? Visit the ' +\n",
              "            '<a target=\"_blank\" href=https://colab.research.google.com/notebooks/data_table.ipynb>data table notebook</a>'\n",
              "            + ' to learn more about interactive tables.';\n",
              "          element.innerHTML = '';\n",
              "          dataTable['output_type'] = 'display_data';\n",
              "          await google.colab.output.renderOutput(dataTable, element);\n",
              "          const docLink = document.createElement('div');\n",
              "          docLink.innerHTML = docLinkHtml;\n",
              "          element.appendChild(docLink);\n",
              "        }\n",
              "      </script>\n",
              "    </div>\n",
              "  </div>\n",
              "  "
            ]
          },
          "metadata": {}
        }
      ]
    },
    {
      "cell_type": "code",
      "source": [
        "print(df.columns)"
      ],
      "metadata": {
        "colab": {
          "base_uri": "https://localhost:8080/"
        },
        "id": "FB9Caa96zQAw",
        "outputId": "365cc75e-64d7-4021-dbde-b39712f99be9"
      },
      "execution_count": 40,
      "outputs": [
        {
          "output_type": "stream",
          "name": "stdout",
          "text": [
            "Index(['Surface', 'Ville', 'Code postale', 'Prix par mois', 'Unnamed: 0',\n",
            "       'intitule', 'description', 'salaire', 'libelle', 'latitude',\n",
            "       'longitude', 'commune'],\n",
            "      dtype='object')\n"
          ]
        }
      ]
    },
    {
      "cell_type": "code",
      "source": [
        "import matplotlib.pyplot as plt\n",
        "\n",
        "# Tracer un graphique de dispersion\n",
        "plt.scatter(df[\"salaire\"], df[\"Prix par mois\"])\n",
        "\n",
        "# Ajouter des titres et des étiquettes d'axes\n",
        "plt.title(\"Corrélation entre le salaire et le prix du loyer\")\n",
        "plt.xlabel(\"Salaire\")\n",
        "plt.ylabel(\"Prix par mois\")\n",
        "\n",
        "# Afficher le graphique\n",
        "plt.show()\n"
      ],
      "metadata": {
        "colab": {
          "base_uri": "https://localhost:8080/",
          "height": 473
        },
        "id": "dun_zh1QzHWw",
        "outputId": "082445fb-9f26-40d4-d101-faf61195e21f"
      },
      "execution_count": 41,
      "outputs": [
        {
          "output_type": "display_data",
          "data": {
            "text/plain": [
              "<Figure size 640x480 with 1 Axes>"
            ],
            "image/png": "[encoded data removed]"
          },
          "metadata": {}
        }
      ]
    },
    {
      "cell_type": "code",
      "source": [
        "import re\n",
        "# Définir la fonction pour extraire les nombres et calculer la moyenne\n",
        "def extraire_et_moyenne(texte):\n",
        "    nombres = [int(x) for x in re.findall(r'\\d+', texte)]\n",
        "    moyenne = sum(nombres) / len(nombres)\n",
        "    return moyenne\n",
        "\n",
        "# Appliquer la fonction à la colonne \"Salaire\" du DataFrame\n",
        "df['salaire'] = df['salaire'].apply(extraire_et_moyenne)\n",
        "\n",
        "# Afficher le DataFrame modifié\n",
        "print(df)"
      ],
      "metadata": {
        "colab": {
          "base_uri": "https://localhost:8080/"
        },
        "id": "Hxr-oI1i0uXO",
        "outputId": "ed99609c-28f3-44e2-9c2c-f77eb42e56a0"
      },
      "execution_count": 47,
      "outputs": [
        {
          "output_type": "stream",
          "name": "stdout",
          "text": [
            "  Surface                 Ville  Code postale  Prix par mois  Unnamed: 0  \\\n",
            "0   70 m²              Bordeaux         33000            500          75   \n",
            "1   70 m²              Bordeaux         33000            500          97   \n",
            "2   39 m²                 Lille         59000            720         110   \n",
            "3   39 m²                 Lille         59000            720         112   \n",
            "4   40 m²  Boulogne-Billancourt         92100           1308         108   \n",
            "5   50 m²            Strasbourg         67000           1070           2   \n",
            "6   50 m²            Strasbourg         67000           1070          82   \n",
            "\n",
            "                                            intitule  \\\n",
            "0  Technicien / Technicienne de maintenance en in...   \n",
            "1  Enseignant informatique et techniques quantita...   \n",
            "2  Technicien Informatique N2/N3 bilingue anglais...   \n",
            "3           ALTERNANCE TECHNICIEN INFORMATIQUE (H/F)   \n",
            "4          Chef de projets informatique Etudes (F/H)   \n",
            "5           Technicien/ne support informatique (H/F)   \n",
            "6       Technicien informatique d'exploitation (H/F)   \n",
            "\n",
            "                                         description       salaire  \\\n",
            "0  **Venez rencontrer l'employeur lors d'une sess...     21.000000   \n",
            "1  Contractuel second degré\\nCampagne ouverte du ...    716.666667   \n",
            "2  « Spécialisé dans le recrutement de profils ha...  11202.400000   \n",
            "3  Pour nos entreprises partenaires basées sur Or...    573.666667   \n",
            "4  Au sein de la direction des antennes et placé ...  13337.333333   \n",
            "5  ous interviendrez donc sur les périmètres tech...   8668.833333   \n",
            "6  « Spécialisé dans le recrutement de profils ha...  10002.400000   \n",
            "\n",
            "                     libelle   latitude  longitude  commune  \n",
            "0              33 - BORDEAUX  44.851895  -0.587877  33063.0  \n",
            "1              33 - BORDEAUX  44.851895  -0.587877  33063.0  \n",
            "2                 59 - LILLE  50.630992   3.045433  59350.0  \n",
            "3                 59 - LILLE  50.630992   3.045433  59350.0  \n",
            "4  92 - BOULOGNE BILLANCOURT  48.836976   2.242716  92012.0  \n",
            "5            67 - STRASBOURG  48.579831   7.761454  67482.0  \n",
            "6            67 - STRASBOURG  48.579831   7.761454  67482.0  \n"
          ]
        }
      ]
    },
    {
      "cell_type": "code",
      "source": [
        "print(df.columns)"
      ],
      "metadata": {
        "colab": {
          "base_uri": "https://localhost:8080/"
        },
        "id": "ZZOridwa1YgH",
        "outputId": "1762831a-0379-4904-d951-19824ffe5aa8"
      },
      "execution_count": 46,
      "outputs": [
        {
          "output_type": "stream",
          "name": "stdout",
          "text": [
            "Index(['Surface', 'Ville', 'Code postale', 'Prix par mois', 'Unnamed: 0',\n",
            "       'intitule', 'description', 'salaire', 'libelle', 'latitude',\n",
            "       'longitude', 'commune'],\n",
            "      dtype='object')\n"
          ]
        }
      ]
    },
    {
      "cell_type": "code",
      "source": [
        "import matplotlib.pyplot as plt\n",
        "\n",
        "# Tracer un graphique de dispersion\n",
        "plt.scatter(df[\"salaire\"], df[\"Surface\"])\n",
        "\n",
        "# Ajouter des titres et des étiquettes d'axes\n",
        "plt.title(\"Corrélation entre le salaire et le prix du loyer\")\n",
        "plt.xlabel(\"Surface\")\n",
        "plt.ylabel(\"salaire\")\n",
        "\n",
        "# Afficher le graphique\n",
        "plt.show()"
      ],
      "metadata": {
        "colab": {
          "base_uri": "https://localhost:8080/",
          "height": 472
        },
        "id": "rrL-bqgF1zxd",
        "outputId": "1a4b2276-f55a-486e-81d1-32078afdc95a"
      },
      "execution_count": 53,
      "outputs": [
        {
          "output_type": "display_data",
          "data": {
            "text/plain": [
              "<Figure size 640x480 with 1 Axes>"
            ],
            "image/png": "[encoded data removed]"
          },
          "metadata": {}
        }
      ]
    },
    {
      "cell_type": "code",
      "source": [
        "# Trier la colonne 'salaire' dans l'ordre croissant\n",
        "df = df.sort_values(\"salaire\", ascending=True)\n",
        "plt.show()\n"
      ],
      "metadata": {
        "id": "ZNPZyTJR6b7v"
      },
      "execution_count": 56,
      "outputs": []
    },
    {
      "cell_type": "code",
      "source": [
        "import matplotlib.pyplot as plt\n",
        "\n",
        "# Trier la colonne 'salaire' dans l'ordre croissant\n",
        "df = df.sort_values(\"salaire\", ascending=True)\n",
        "\n",
        "# Tracer un graphique de dispersion\n",
        "plt.scatter(df[\"salaire\"], df[\"Prix par mois\"])\n",
        "\n",
        "# Ajouter des titres et des étiquettes d'axes\n",
        "plt.title(\"Corrélation entre le salaire et le prix du loyer\")\n",
        "plt.xlabel(\"Salaire\")\n",
        "plt.ylabel(\"Prix par mois\")\n",
        "\n",
        "# Afficher le graphique\n",
        "plt.show()\n"
      ],
      "metadata": {
        "colab": {
          "base_uri": "https://localhost:8080/",
          "height": 472
        },
        "id": "RVJNaYZV6teZ",
        "outputId": "868d313e-32c9-4f52-b0d7-aa9756250d8e"
      },
      "execution_count": 57,
      "outputs": [
        {
          "output_type": "display_data",
          "data": {
            "text/plain": [
              "<Figure size 640x480 with 1 Axes>"
            ],
            "image/png": "[encoded data removed]"
          },
          "metadata": {}
        }
      ]
    }
  ]
}