{
 "cells": [
  {
   "cell_type": "code",
   "execution_count": null,
   "id": "0aa14fdc",
   "metadata": {},
   "outputs": [],
   "source": [
    "import http.client\n",
    "import json\n",
    "import time\n",
    "from kafka import KafkaProducer\n",
    "\n",
    "# Configuration du Kafka Producer\n",
    "kafka_broker = \"kafka:9092\"\n",
    "kafka_topic = \"leboncoin2\"\n",
    "\n",
    "producer = KafkaProducer(bootstrap_servers=kafka_broker,\n",
    "                         value_serializer=lambda m: json.dumps(m).encode('ascii'))\n",
    "\n",
    "# Configuration de l'API Le Bon Coin\n",
    "conn = http.client.HTTPSConnection(\"leboncoin1.p.rapidapi.com\")\n",
    "headers = {\n",
    "    'X-RapidAPI-Key': \"75d8e9fcbdmshe1c9e3402676a93p103d36jsn22432e5b1526\",\n",
    "    'X-RapidAPI-Host': \"leboncoin1.p.rapidapi.com\"\n",
    "}\n",
    "\n",
    "# Parcourir les pages de l'API Le Bon Coin\n",
    "for page in range(1, 30):\n",
    "    query = f\"https%3A%2F%2Fwww.leboncoin.fr%2Flocations%2Foffres%2Fp-{page}\"\n",
    "    conn.request(\"GET\", f\"/v2/leboncoin/search?query={query}\", headers=headers)\n",
    "    res = conn.getresponse()\n",
    "    data = res.read()\n",
    "\n",
    "    if res.status != 200:\n",
    "        print(f\"Error {res.status}: {res.reason}\")\n",
    "        break\n",
    "\n",
    "    # Charger les données JSON et envoyer chaque annonce individuellement au topic Kafka\n",
    "    json_data = json.loads(data.decode(\"utf-8\"))\n",
    "    ads_list = json_data['ads']\n",
    "    for ad in ads_list:\n",
    "        producer.send(kafka_topic, ad)\n",
    "        print(f\"Annonce envoyée au topic Kafka : {ad}\")\n",
    "\n",
    "    # Ajouter un délai de 5 secondes avant d'envoyer la prochaine requête\n",
    "    time.sleep(5)\n"
   ]
  },
  {
   "cell_type": "code",
   "execution_count": null,
   "id": "3683cd6a",
   "metadata": {},
   "outputs": [],
   "source": [
    "\n"
   ]
  }
 ],
 "metadata": {
  "kernelspec": {
   "display_name": "Python 3 (ipykernel)",
   "language": "python",
   "name": "python3"
  },
  "language_info": {
   "codemirror_mode": {
    "name": "ipython",
    "version": 3
   },
   "file_extension": ".py",
   "mimetype": "text/x-python",
   "name": "python",
   "nbconvert_exporter": "python",
   "pygments_lexer": "ipython3",
   "version": "3.9.2"
  }
 },
 "nbformat": 4,
 "nbformat_minor": 5
}
